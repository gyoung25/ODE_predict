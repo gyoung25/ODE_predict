{
 "cells": [
  {
   "cell_type": "code",
   "execution_count": 1,
   "id": "4cc5396b",
   "metadata": {},
   "outputs": [],
   "source": [
    "import pandas as pd\n",
    "import matplotlib.pyplot as plt\n",
    "from sklearn.model_selection import train_test_split, GridSearchCV\n",
    "from sklearn.svm import SVC\n",
    "from sklearn.linear_model import LogisticRegression as LR"
   ]
  },
  {
   "cell_type": "code",
   "execution_count": 219,
   "id": "f8b4e0e4",
   "metadata": {},
   "outputs": [
    {
     "name": "stdout",
     "output_type": "stream",
     "text": [
      "  Semester  HW1  HW2  HW3  HW4   HW5   HW6   HW7   HW8   HW9  ...  Midterm1  \\\n",
      "0     Sp22   10    0   10   10  10.0   0.0  10.0  10.0  10.0  ...     1.000   \n",
      "1     Sp22   10   10    0   10  10.0  10.0  10.0  10.0  10.0  ...     0.725   \n",
      "2     Sp22   10   10   10   10  10.0  10.0  10.0  10.0  10.0  ...     0.900   \n",
      "3     Sp22   10   10   10   10  10.0  10.0  10.0  10.0  10.0  ...     0.575   \n",
      "4     Sp22   10   10   10   10  10.0  10.0  10.0  10.0  10.0  ...     0.700   \n",
      "\n",
      "   M1_ave_diff  M1_rel_ave  Midterm2  M2_ave_diff  M2_rel_ave     Final  \\\n",
      "0     0.177206   21.537087  0.789474    -0.000774   -0.097943  0.672727   \n",
      "1    -0.097794  -11.885612  0.631579    -0.158669  -20.078355  0.690909   \n",
      "2     0.077206    9.383378  0.763158    -0.027090   -3.428012  0.581818   \n",
      "3    -0.247794  -30.116175  0.763158    -0.027090   -3.428012  0.618182   \n",
      "4    -0.122794  -14.924039  0.342105    -0.448142  -56.709109  0.563636   \n",
      "\n",
      "   Fin_ave_diff  Fin_rel_ave  Course Grade  \n",
      "0     -0.102674   -13.241379             B  \n",
      "1     -0.084492   -10.896552             C  \n",
      "2     -0.193583   -24.965517             C  \n",
      "3     -0.157219   -20.275862             D  \n",
      "4     -0.211765   -27.310345             D  \n",
      "\n",
      "[5 rows x 37 columns]\n"
     ]
    }
   ],
   "source": [
    "grade_data = pd.read_excel('ODE_Grade_Data.xlsx')\n",
    "print(grade_data.head())\n",
    "#pd.DataFrame([[0, 1],[2,3]])"
   ]
  },
  {
   "cell_type": "code",
   "execution_count": 222,
   "id": "9e114250",
   "metadata": {},
   "outputs": [
    {
     "name": "stdout",
     "output_type": "stream",
     "text": [
      "   M1_rel_ave  Quiz Avg\n",
      "0   21.537087  0.666667\n",
      "1  -11.885612  0.533333\n",
      "2    9.383378  0.900000\n",
      "3  -30.116175  0.700000\n",
      "4  -14.924039  0.766667\n"
     ]
    }
   ],
   "source": [
    "early_data = grade_data[['HW1', 'HW2', 'HW3', 'HW4', 'Quiz1', 'Quiz2', 'Quiz3', 'Midterm1', 'M1_rel_ave']]\n",
    "#print(early_data.head())\n",
    "early_data.insert(4, 'HW Avg',early_data[['HW1','HW2','HW3','HW4']].mean(axis=1))\n",
    "early_data.insert(8, 'Quiz Avg',early_data[['Quiz1','Quiz2','Quiz3']].mean(axis=1)/10)\n",
    "#print(early_data.head())\n",
    "#X = early_data[['Midterm1','HW Avg', 'Quiz Avg']].iloc[:90]\n",
    "X = early_data[['Midterm1', 'Quiz Avg']].iloc[:90]\n",
    "X2 = early_data[['M1_rel_ave', 'Quiz Avg']].iloc[:90]\n",
    "#X = early_data.iloc[:90]\n",
    "print(X2.head())\n"
   ]
  },
  {
   "cell_type": "code",
   "execution_count": 223,
   "id": "61a567b9",
   "metadata": {},
   "outputs": [
    {
     "name": "stdout",
     "output_type": "stream",
     "text": [
      "85    1\n",
      "86    1\n",
      "87    1\n",
      "88    1\n",
      "89    1\n",
      "Name: Course Grade, dtype: int64\n"
     ]
    }
   ],
   "source": [
    "y = ((grade_data['Course Grade'].iloc[:90] == 'A') + (grade_data['Course Grade'].iloc[:90] == 'B') + (grade_data['Course Grade'].iloc[:90] == 'C'))*1\n",
    "print(y.tail())"
   ]
  },
  {
   "cell_type": "code",
   "execution_count": 117,
   "id": "71a5a8fc",
   "metadata": {},
   "outputs": [],
   "source": [
    "X_train, X_test, y_train, y_test = train_test_split(X, y, random_state=0)"
   ]
  },
  {
   "cell_type": "code",
   "execution_count": 244,
   "id": "e06f2689",
   "metadata": {},
   "outputs": [
    {
     "name": "stdout",
     "output_type": "stream",
     "text": [
      "[0.98208958 0.97645493 0.99059762 0.88487139 0.98253506 0.99252298\n",
      " 0.46076049 0.95554726 0.67654664 0.96662721 0.8878819  0.84048621\n",
      " 0.37897661 0.99472266 0.98941638 0.99527802 0.98304616 0.99442107\n",
      " 0.96822218 0.988002   0.89993698 0.87063615 0.04122597]\n",
      "0.9565217391304348\n",
      "0.9605263157894737\n"
     ]
    }
   ],
   "source": [
    "svc = SVC(probability=True, random_state=0)\n",
    "params = {'C':[0.001, 0.01, 0.1, 1, 10], 'gamma':[0.0001, 0.001, 0.01, 0.1, 1, 10]} \n",
    "clf_prob = GridSearchCV(svc, params, scoring = 'roc_auc')\n",
    "clf_prob.fit(X, y)\n",
    "y_prob = clf_prob.predict_proba(X_test)[:,1]\n",
    "print(y_prob)\n",
    "\n",
    "from sklearn.metrics import accuracy_score, roc_auc_score\n",
    "print(accuracy_score(y_test,(y_prob>.6)*1))\n",
    "print(roc_auc_score(y_test,y_prob))"
   ]
  },
  {
   "cell_type": "code",
   "execution_count": 139,
   "id": "86a3eafe",
   "metadata": {},
   "outputs": [
    {
     "name": "stdout",
     "output_type": "stream",
     "text": [
      "[1 1 1 1 1 1 1 1 1 1 1 1 0 1 1 1 1 1 1 1 1 1 0]\n",
      "0.9130434782608695\n"
     ]
    }
   ],
   "source": [
    "svc = SVC(probability=False, random_state=0)\n",
    "params = {'C':[0.001, 0.01, 0.1, 1], 'gamma':[0.001, 0.01, 0.1, 1]} \n",
    "clf = GridSearchCV(svc, params, scoring = 'accuracy')\n",
    "clf.fit(X, y)\n",
    "y_pred = clf.predict(X_test)\n",
    "print(y_pred)\n",
    "\n",
    "from sklearn.metrics import accuracy_score, roc_auc_score\n",
    "print(accuracy_score(y_test,y_pred))"
   ]
  },
  {
   "cell_type": "code",
   "execution_count": 217,
   "id": "f10c2855",
   "metadata": {},
   "outputs": [
    {
     "name": "stdout",
     "output_type": "stream",
     "text": [
      "[0.96283685 0.94969112 0.97302623 0.83276368 0.96435124 0.97903826\n",
      " 0.5614022  0.93276774 0.67614286 0.93035043 0.86829744 0.82677032\n",
      " 0.48526469 0.9837556  0.97298863 0.98566021 0.96503742 0.98271206\n",
      " 0.92741384 0.9691534  0.8690354  0.75987524 0.14580799]\n",
      "0.9565217391304348\n",
      "0.9605263157894737\n"
     ]
    }
   ],
   "source": [
    "lr = LR(random_state=0)\n",
    "params = {'C':[0.001, 0.01, 0.1, 1, 10, 100]} \n",
    "clf_lr = GridSearchCV(lr, params, scoring = 'roc_auc')\n",
    "clf_lr.fit(X_train, y_train)\n",
    "y_prob_lr = clf_lr.predict_proba(X_test)[:,1]\n",
    "print(y_prob_lr)\n",
    "\n",
    "from sklearn.metrics import accuracy_score, roc_auc_score\n",
    "print(accuracy_score(y_test,(y_prob_lr>.6)*1))\n",
    "print(roc_auc_score(y_test,y_prob_lr))"
   ]
  },
  {
   "cell_type": "code",
   "execution_count": 238,
   "id": "ad3bdf77",
   "metadata": {},
   "outputs": [
    {
     "name": "stdout",
     "output_type": "stream",
     "text": [
      "    Midterm1  Quiz Avg     Proba  Course Grade\n",
      "2   0.900000  0.900000  0.985454             1\n",
      "13  0.900000  0.733333  0.980550             1\n",
      "53  0.974359  0.766667  0.992666             1\n",
      "41  0.794872  0.466667  0.894235             0\n",
      "66  0.897436  0.933333  0.985837             1\n",
      "30  0.975000  0.900000  0.994247             1\n",
      "45  0.589744  0.600000  0.451935             0\n",
      "43  0.820513  0.900000  0.961716             1\n",
      "78  0.685185  0.462778  0.680419             1\n",
      "89  0.888889  0.597222  0.971807             1\n",
      "7   0.750000  0.800000  0.897177             1\n",
      "26  0.725000  0.733333  0.850016             1\n",
      "33  0.575000  0.500000  0.366370             0\n",
      "63  1.000000  0.933333  0.996024             1\n",
      "8   0.950000  0.866667  0.991682             1\n",
      "16  1.000000  1.000000  0.996465             1\n",
      "24  0.900000  0.933333  0.986277             1\n",
      "56  1.000000  0.900000  0.995783             1\n",
      "77  0.907407  0.497222  0.973241             1\n",
      "42  0.948718  0.800000  0.990499             1\n",
      "22  0.775000  0.700000  0.908965             1\n",
      "6   0.850000  0.000000  0.880144             1\n",
      "61  0.333333  0.600000  0.033313             0\n"
     ]
    }
   ],
   "source": [
    "#print(X_test)\n",
    "#print(y_test)\n",
    "pred_data = pd.concat([X_test, pd.Series(y_prob, index=y_test.index), y_test], axis=1).rename({0: 'Proba'}, axis = 1)\n",
    "print(pred_data)\n"
   ]
  },
  {
   "cell_type": "code",
   "execution_count": null,
   "id": "23130cd2",
   "metadata": {},
   "outputs": [],
   "source": [
    "grade_data.iloc[6]"
   ]
  },
  {
   "cell_type": "code",
   "execution_count": null,
   "id": "bf4f2ca1",
   "metadata": {},
   "outputs": [],
   "source": [
    "plt.scatter(X,y)\n",
    "plt.plot([0.6, 0.6],[0, 1], color = 'r')\n",
    "plt.xlabel('Midterm 1 Score')\n",
    "plt.ylabel('Pass Class')"
   ]
  },
  {
   "cell_type": "code",
   "execution_count": null,
   "id": "bf4e5c0b",
   "metadata": {},
   "outputs": [],
   "source": [
    "data = pd.concat([X['Midterm1'], y], axis=1)\n",
    "print('Percent of students who finish the course and pass: ' + str(data['Course Grade'].mean()))\n",
    "print(data['Course Grade'][data['Midterm1']>0.6].mean())\n",
    "print(data['Course Grade'][data['Midterm1']<=0.6].mean())"
   ]
  },
  {
   "cell_type": "code",
   "execution_count": null,
   "id": "a68487e4",
   "metadata": {},
   "outputs": [],
   "source": [
    "y_all_prob = clf.predict_proba(X)[:,1]\n",
    "print(len(X))\n",
    "pred_data = pd.concat([X, pd.Series(y_all_prob, index=y.index), y], axis=1).rename({0: 'Proba'}, axis = 1)\n",
    "print(pred_data)\n",
    "plt.scatter(pred_data['Midterm1'], pred_data['Proba'])\n",
    "plt.xlabel('Midterm 1 Score')\n",
    "plt.ylabel('Probability Pass Class')"
   ]
  },
  {
   "cell_type": "code",
   "execution_count": 119,
   "id": "a93b1d51",
   "metadata": {},
   "outputs": [
    {
     "name": "stdout",
     "output_type": "stream",
     "text": [
      "   Midterm1  Quiz Avg\n",
      "0  0.854167  0.766667\n",
      "1  0.812500  0.566667\n",
      "2  0.958333  0.900000\n",
      "3  0.895833  0.900000\n",
      "4  0.875000  0.866667\n"
     ]
    }
   ],
   "source": [
    "data_fa23 = pd.read_excel('Fa23_EarlyGrades.xlsx')\n",
    "data_fa23.insert(4, 'HW Avg', data_fa23[['HW1','HW2','HW3','HW4']].mean(axis=1))\n",
    "data_fa23.insert(8, 'Quiz Avg', data_fa23[['Quiz1','Quiz2','Quiz3']].mean(axis=1)/10)\n",
    "y_fa23 = ((data_fa23['Course Grade'].iloc[:90] == 'A') + (data_fa23['Course Grade'].iloc[:90] == 'B') + (data_fa23['Course Grade'].iloc[:90] == 'C'))*1\n",
    "X_fa23 = data_fa23[['Midterm1', 'Quiz Avg']]\n",
    "\n",
    "print(X_fa23.head())"
   ]
  },
  {
   "cell_type": "code",
   "execution_count": 141,
   "id": "c30c9af4",
   "metadata": {},
   "outputs": [
    {
     "data": {
      "text/plain": [
       "Text(0, 0.5, 'Probability Pass Class')"
      ]
     },
     "execution_count": 141,
     "metadata": {},
     "output_type": "execute_result"
    },
    {
     "data": {
      "image/png": "[encoded data removed]",
      "text/plain": [
       "<Figure size 640x480 with 1 Axes>"
      ]
     },
     "metadata": {},
     "output_type": "display_data"
    }
   ],
   "source": [
    "y_fa23_prob = clf_prob.predict_proba(X_fa23)[:,1]\n",
    "#pred_data = pd.concat([X_fa23, pd.Series(X_fa23_prob, index=X_fa23.index), y], axis=1).rename({0: 'Proba'}, axis = 1)\n",
    "plt.scatter(X_fa23['Midterm1'], y_fa23_prob)\n",
    "plt.xlabel('Midterm 1 Score')\n",
    "plt.ylabel('Probability Pass Class')"
   ]
  },
  {
   "cell_type": "code",
   "execution_count": 142,
   "id": "6851ef4b",
   "metadata": {},
   "outputs": [
    {
     "name": "stdout",
     "output_type": "stream",
     "text": [
      "Number of students expected to pass: 53\n",
      "Number of students expected to fail: 9\n",
      "22\n"
     ]
    }
   ],
   "source": [
    "print(f'Number of students expected to pass: {sum(y_fa23_prob>.3):.0f}')\n",
    "print(f'Number of students expected to fail: {len(X_fa23) - sum(y_fa23_prob>.3):.0f}')\n",
    "print(sum((X_fa23['Midterm1']<=0.7)*1))\n",
    "#print(f'Number of students who scored under 60\\%: {sum((X_fa23['Midterm1']<=0.6)*1):.1f}')"
   ]
  },
  {
   "cell_type": "code",
   "execution_count": 35,
   "id": "da716c07",
   "metadata": {},
   "outputs": [
    {
     "name": "stdout",
     "output_type": "stream",
     "text": [
      "[0.86392921 0.75828942 0.86191711 0.86293831 0.74763727 0.88052887\n",
      " 0.69597428 0.88119382 0.74008954 0.69680801 0.85738469 0.54662198\n",
      " 0.70928151 0.86112958 0.85118934 0.082312   0.86328445 0.87435576\n",
      " 0.87074918 0.86580671 0.86293831 0.74952322 0.74740626 0.85787859\n",
      " 0.87843247 0.40507556 0.81649014 0.86579306 0.80361904 0.88125714\n",
      " 0.58446843 0.80612455 0.73626816 0.66773777 0.76845612 0.86355421\n",
      " 0.86560215 0.03383233 0.79541281 0.60890164 0.22735997 0.67344334\n",
      " 0.42503442 0.86514928 0.87543413 0.87109403 0.86232589 0.82915483\n",
      " 0.61510136 0.82406302 0.86392921 0.8041588  0.72468751 0.79255342\n",
      " 0.89733523 0.84933888 0.87215537 0.45207523 0.88398727 0.86906578\n",
      " 0.79953068 0.87903671]\n"
     ]
    }
   ],
   "source": [
    "print(y_fa23_prob)"
   ]
  },
  {
   "cell_type": "code",
   "execution_count": 149,
   "id": "39fd2bd2",
   "metadata": {},
   "outputs": [
    {
     "name": "stdout",
     "output_type": "stream",
     "text": [
      "0.9193548387096774\n"
     ]
    }
   ],
   "source": [
    "print(accuracy_score(y_fa23,(y_fa23_prob>.3)*1))"
   ]
  },
  {
   "cell_type": "code",
   "execution_count": 153,
   "id": "3dc2f98f",
   "metadata": {},
   "outputs": [
    {
     "name": "stdout",
     "output_type": "stream",
     "text": [
      "    Pass  Predict Pass  Correct?\n",
      "15     0             1        -1\n",
      "34     0             1        -1\n",
      "41     1             0         1\n",
      "48     1             0         1\n",
      "51     0             1        -1\n"
     ]
    }
   ],
   "source": [
    "results = pd.concat([y_fa23, pd.Series((y_fa23_prob>.3)*1, index = y_fa23.index)], axis=1)\n",
    "results = results.rename(columns = {'Course Grade': \"Pass\", 0: 'Predict Pass'})\n",
    "results.insert(2, 'Correct?', results['Pass'] - results['Predict Pass'])\n",
    "print(results[results['Correct?'] != 0])"
   ]
  },
  {
   "cell_type": "code",
   "execution_count": 150,
   "id": "325f7085",
   "metadata": {},
   "outputs": [
    {
     "name": "stdout",
     "output_type": "stream",
     "text": [
      "    Pass  Predict Pass  Correct?\n",
      "21     0             0         0\n",
      "22     0             0         0\n",
      "25     0             0         0\n",
      "37     0             0         0\n",
      "40     0             0         0\n",
      "41     1             0         1\n",
      "42     0             0         0\n",
      "48     1             0         1\n",
      "51     0             0         0\n"
     ]
    }
   ],
   "source": [
    "print(results[results['Predict Pass']==0])"
   ]
  },
  {
   "cell_type": "code",
   "execution_count": 111,
   "id": "889fa015",
   "metadata": {},
   "outputs": [
    {
     "data": {
      "text/plain": [
       "array([[ 8,  2],\n",
       "       [ 2, 50]])"
      ]
     },
     "execution_count": 111,
     "metadata": {},
     "output_type": "execute_result"
    }
   ],
   "source": [
    "from sklearn.metrics import confusion_matrix\n",
    "confusion_matrix(y_fa23, (y_fa23_prob>.79)*1)"
   ]
  },
  {
   "cell_type": "code",
   "execution_count": 155,
   "id": "bef42861",
   "metadata": {},
   "outputs": [],
   "source": [
    "y_fa23_pred = clf.predict(X_fa23)"
   ]
  },
  {
   "cell_type": "code",
   "execution_count": 156,
   "id": "e5a11277",
   "metadata": {},
   "outputs": [
    {
     "name": "stdout",
     "output_type": "stream",
     "text": [
      "0.8870967741935484\n"
     ]
    }
   ],
   "source": [
    "print(accuracy_score(y_fa23,y_fa23_pred))"
   ]
  },
  {
   "cell_type": "code",
   "execution_count": 196,
   "id": "f2221db2",
   "metadata": {},
   "outputs": [
    {
     "name": "stdout",
     "output_type": "stream",
     "text": [
      "    Pass  Predict Pass  False Neg  False Pos\n",
      "0      1             1          0          0\n",
      "1      1             1          0          0\n",
      "2      1             1          0          0\n",
      "3      1             1          0          0\n",
      "4      1             1          0          0\n",
      "..   ...           ...        ...        ...\n",
      "57     0             0          0          0\n",
      "58     1             1          0          0\n",
      "59     1             1          0          0\n",
      "60     1             1          0          0\n",
      "61     1             1          0          0\n",
      "\n",
      "[62 rows x 4 columns]\n"
     ]
    }
   ],
   "source": [
    "results = pd.concat([y_fa23, pd.Series((y_fa23_prob>.3)*1, index = y_fa23.index)], axis=1)\n",
    "results = results.rename(columns = {'Course Grade': \"Pass\", 0: 'Predict Pass'})\n",
    "results.insert(2, 'False Pos', (results['Pass'] == 0)*(results['Predict Pass']==1)*1)\n",
    "results.insert(2, 'False Neg', (results['Pass'] == 1)*(results['Predict Pass']==0)*1)\n",
    "print(results)"
   ]
  },
  {
   "cell_type": "code",
   "execution_count": 158,
   "id": "9b24bdd1",
   "metadata": {},
   "outputs": [
    {
     "name": "stdout",
     "output_type": "stream",
     "text": [
      "Number of students expected to pass: 51\n",
      "Number of students expected to fail: 11\n",
      "22\n"
     ]
    }
   ],
   "source": [
    "print(f'Number of students expected to pass: {sum(y_fa23_pred>.3):.0f}')\n",
    "print(f'Number of students expected to fail: {len(X_fa23) - sum(y_fa23_pred>.3):.0f}')\n",
    "print(sum((X_fa23['Midterm1']<=0.7)*1))\n",
    "#print(f'Number of students who scored under 60\\%: {sum((X_fa23['Midterm1']<=0.6)*1):.1f}')"
   ]
  },
  {
   "cell_type": "code",
   "execution_count": 159,
   "id": "0693b98a",
   "metadata": {},
   "outputs": [
    {
     "data": {
      "text/plain": [
       "array([[ 7,  3],\n",
       "       [ 4, 48]])"
      ]
     },
     "execution_count": 159,
     "metadata": {},
     "output_type": "execute_result"
    }
   ],
   "source": [
    "confusion_matrix(y_fa23, (y_fa23_pred>.79)*1)"
   ]
  },
  {
   "cell_type": "code",
   "execution_count": 240,
   "id": "c729fac8",
   "metadata": {},
   "outputs": [
    {
     "name": "stdout",
     "output_type": "stream",
     "text": [
      "    Midterm1  Quiz Avg  Pass  Predict Pass  False Neg  False Pos\n",
      "15  0.645833  0.300000     0             1          0          1\n",
      "34  0.979167  0.133333     0             1          0          1\n",
      "41  0.520833  0.633333     1             0          1          0\n",
      "48  0.520833  0.466667     1             0          1          0\n",
      "51  0.520833  0.766667     0             1          0          1\n"
     ]
    },
    {
     "data": {
      "text/plain": [
       "<matplotlib.collections.PathCollection at 0x123f0d6f0>"
      ]
     },
     "execution_count": 240,
     "metadata": {},
     "output_type": "execute_result"
    },
    {
     "data": {
      "image/png": "[encoded data removed]",
      "text/plain": [
       "<Figure size 640x480 with 1 Axes>"
      ]
     },
     "metadata": {},
     "output_type": "display_data"
    }
   ],
   "source": [
    "train_data = pd.concat([X, y], axis = 1).rename(columns = {'Course Grade': 'Pass'})\n",
    "pred_data = pd.concat([X_fa23, results], axis = 1)\n",
    "pred_wrong = pred_data[(pred_data['False Neg']==1)+(pred_data['False Pos']==1)]\n",
    "print(pred_wrong)\n",
    "\n",
    "c_dict_train = {0: 'tab:red', 1: 'tab:blue'}\n",
    "c_dict_pred = {0: 'lime', 1: 'darkorange'}\n",
    "\n",
    "c_train = [c_dict_train[x] for x in train_data['Pass'].values]\n",
    "c_pred = [c_dict_train[x] for x in pred_data['Predict Pass'].values]\n",
    "c_pred_wrong = [c_dict_pred[x] for x in pred_wrong['Predict Pass'].values]\n",
    "\n",
    "plt.scatter(train_data['Midterm1'], train_data['Quiz Avg'], c = c_train, alpha = 0.5, s = 50)\n",
    "plt.scatter(pred_data['Midterm1'], pred_data['Quiz Avg'], c = c_pred, alpha = 1, s = 60, marker = '*')\n",
    "plt.scatter(pred_wrong['Midterm1'], pred_wrong['Quiz Avg'], c = c_pred_wrong, alpha = 1, s = 80, marker = '*')"
   ]
  },
  {
   "cell_type": "code",
   "execution_count": null,
   "id": "869bb218",
   "metadata": {},
   "outputs": [],
   "source": []
  }
 ],
 "metadata": {
  "kernelspec": {
   "display_name": "Python 3 (ipykernel)",
   "language": "python",
   "name": "python3"
  },
  "language_info": {
   "codemirror_mode": {
    "name": "ipython",
    "version": 3
   },
   "file_extension": ".py",
   "mimetype": "text/x-python",
   "name": "python",
   "nbconvert_exporter": "python",
   "pygments_lexer": "ipython3",
   "version": "3.10.8"
  }
 },
 "nbformat": 4,
 "nbformat_minor": 5
}
